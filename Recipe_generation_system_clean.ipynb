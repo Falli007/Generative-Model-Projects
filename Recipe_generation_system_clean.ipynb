{
  "nbformat": 4,
  "nbformat_minor": 0,
  "metadata": {
    "colab": {
      "provenance": []
    },
    "kernelspec": {
      "name": "python3",
      "display_name": "Python 3"
    },
    "language_info": {
      "name": "python"
    }
  },
  "cells": [
    {
      "cell_type": "markdown",
      "source": [
        "###A recipe generation system takes a set of ingredients and generates a recipe with instructions for preparing a dish. This system can be used for applications such as meal planning, cooking assistants, or even automated recipe suggestion based on available ingredients. Generative models like GPT or Seq2Seq can be used to produce recipes from a list of ingredients or a cooking style description."
      ],
      "metadata": {
        "id": "DJtqqtk8__9Q"
      }
    },
    {
      "cell_type": "code",
      "execution_count": 1,
      "metadata": {
        "id": "LoJmtY28_4hP"
      },
      "outputs": [],
      "source": [
        "import torch\n",
        "from transformers import GPT2LMHeadModel, GPT2Tokenizer"
      ]
    },
    {
      "cell_type": "code",
      "source": [
        "# 1. Loading the pre-trained GPT-2 model and tokenizer\n",
        "model_name = \"gpt2\"  # GPT-2 model (can use larger models like gpt2-medium for better quality)\n",
        "model = GPT2LMHeadModel.from_pretrained(model_name)\n",
        "tokenizer = GPT2Tokenizer.from_pretrained(model_name)\n",
        "\n",
        "model.eval()  # Set model to evaluation mode"
      ],
      "metadata": {
        "colab": {
          "base_uri": "https://localhost:8080/",
          "height": 814,
          "referenced_widgets": [
            "2cd0c66c05ea4f8f8a0599b5aa55aaed",
            "6e326ededa0e4c5fb4bae051c33d9391",
            "c1493e034870407dbaeed36635f21773",
            "51bf73813edc41b19d97af4c955b0b86",
            "164d680b258544b4bf6c7d99d6146418",
            "20fcb92ef3924bac81b5b04b48510a8a",
            "a7bea4b8761849aa8f275ec2c0bc0400",
            "8e4958553d414353852b12851f54548f",
            "d3c5ebb089ca4ee4918e3a7795235c2a",
            "2271d83ca09c4414923cbf8444e52d9a",
            "06a6abbb11a54a5298513c313d9f7844",
            "24825dbdd6b04a0d8cdcfc81e8f8685b",
            "0670540359c14ceb85d11f801e612437",
            "e7aaee505ae14d15886f5e51ab7f9af1",
            "6c1e38a432e6458183f591d18375eafe",
            "281cfea21802454f8bd33ee1610bf702",
            "6f4c5d51cea84514aeeff21ff0c2bee5",
            "c624e32ff3c2494ab0043af6909d9db5",
            "33d7c5853e354ac9ac93a7ed26054b9c",
            "9b12aea863cc4fec891d0268402738d0",
            "ebfdb05dcf144de5a5926f0ad0e2b2e0",
            "40bd1fc223fd4174bf9287d24a99a9f3",
            "d59dbb93b0a74b98948501be9b69871b",
            "481ae67722ae4c45870763077895e784",
            "946d3eb74d2b4054918ee8eda1b0523c",
            "206e2cb985144569bd92361799e99be4",
            "46069dd25a184da0b09a4c120efbbaa6",
            "4aa4357eddb5424a96d7285b1d945e14",
            "bd215bd146134260874f893e30cbf136",
            "30f330843902422ea82fcc7135cf25ee",
            "b5592e99aa0a4b3fa12e7464c386c19d",
            "50c7ae15f2904269ba1a3d8c97057a54",
            "e6a23ba8cf924f1ca746f909c265b993",
            "38f6d9ef3cb04eea982fe9c7578c3bdf",
            "9e65b2b4b5914d6ab00b7c6bfd9d3161",
            "15e0ba11af4c41d6a2da42ae026c922b",
            "925522398e7946ac8ae673eefe88cc11",
            "a1ede7b9fe954bdba2adc47cefb6ffbb",
            "6538912d2de040f6aaf11f495a15cbaf",
            "18518f7df6284c0788f6c45d8771c6df",
            "97f36d6764d340b593939cd9e7e07124",
            "9101c9430b444dee8aca4569ad42b26c",
            "376e79dbf8cd46309f7c64102f761571",
            "47193f290a3f494ebc926f78a7876655",
            "37d10659a3fe42488523a0f83db207e3",
            "83040ebd7a7649799f69dd9835fc7f89",
            "b9597e066e6d43d4acc54028d11e6a60",
            "6dca7f595a86477697cb0b6e1e25eda2",
            "d8d06d26119a45a39a04c34f44b30975",
            "b90310a3251a455fb3c74bbd73ac2363",
            "9c8f10c51d284276b516b60b31578d9a",
            "1e1f44fabb434cacb8614553dfc22ae0",
            "a4c7f45ecf8f4e96bb32df71e9bc761c",
            "33c723f09a244a7bb9326b6f7e5defeb",
            "85677dd24f0e4c77bf19b94b76945f1c",
            "d250b2981f9b4122a196279d405739e9",
            "b747c9e03a5c4b4585ea46c233bf6695",
            "fc6658991d3f4422b1ad93a695348746",
            "fe72e2ac333d40319b339aa3734c26c2",
            "161838bfd46247ac8e27ce3e0d70bd06",
            "c2ff6293d78d4de5bfa1a1a4c89d3ef0",
            "2dee7fb0cd524a5ca9820f8f43ee76b9",
            "b3799e922f984fb78161bb84d6b7a6d8",
            "8b110947049c4a4a85e54702758c5873",
            "e72342e4286a44ea843e4970b4b3656d",
            "333d643135dc453fb70d4a783bea38c5",
            "9580eb92e17d47cebcf00a1cba9e815a",
            "97fd01b9cb69421d83abd22843c2f3c6",
            "327494e5046f477f9e77104340e7dcc7",
            "3fc634793447433d9ca2aa5d56926ed5",
            "66c8a27b8da047c08cee71014e7421ad",
            "0c67ebb74fcf45879f2e22f14fe95211",
            "38add819c53a47ed95ff82a5acae7e19",
            "406033cb68be4fafac309679cfe73631",
            "c5651635ef6645a0a8feda8a3cf58521",
            "2a96b96026c84c05b5b69ba2e35d84fa",
            "318b917588404c1f9571677db7eda5ff"
          ]
        },
        "id": "G-57xPCAAIcZ",
        "outputId": "d2cc25f7-51b3-4a5f-bef0-4522559b72f6"
      },
      "execution_count": 2,
      "outputs": [
        {
          "output_type": "stream",
          "name": "stderr",
          "text": [
            "/usr/local/lib/python3.11/dist-packages/huggingface_hub/utils/_auth.py:94: UserWarning: \n",
            "The secret `HF_TOKEN` does not exist in your Colab secrets.\n",
            "To authenticate with the Hugging Face Hub, create a token in your settings tab (https://huggingface.co/settings/tokens), set it as secret in your Google Colab and restart your session.\n",
            "You will be able to reuse this secret in all of your notebooks.\n",
            "Please note that authentication is recommended but still optional to access public models or datasets.\n",
            "  warnings.warn(\n"
          ]
        },
        {
          "output_type": "display_data",
          "data": {
            "text/plain": [
              "config.json:   0%|          | 0.00/665 [00:00<?, ?B/s]"
            ],
            "application/vnd.jupyter.widget-view+json": {
              "version_major": 2,
              "version_minor": 0,
              "model_id": "2cd0c66c05ea4f8f8a0599b5aa55aaed"
            }
          },
          "metadata": {}
        },
        {
          "output_type": "display_data",
          "data": {
            "text/plain": [
              "model.safetensors:   0%|          | 0.00/548M [00:00<?, ?B/s]"
            ],
            "application/vnd.jupyter.widget-view+json": {
              "version_major": 2,
              "version_minor": 0,
              "model_id": "24825dbdd6b04a0d8cdcfc81e8f8685b"
            }
          },
          "metadata": {}
        },
        {
          "output_type": "display_data",
          "data": {
            "text/plain": [
              "generation_config.json:   0%|          | 0.00/124 [00:00<?, ?B/s]"
            ],
            "application/vnd.jupyter.widget-view+json": {
              "version_major": 2,
              "version_minor": 0,
              "model_id": "d59dbb93b0a74b98948501be9b69871b"
            }
          },
          "metadata": {}
        },
        {
          "output_type": "display_data",
          "data": {
            "text/plain": [
              "tokenizer_config.json:   0%|          | 0.00/26.0 [00:00<?, ?B/s]"
            ],
            "application/vnd.jupyter.widget-view+json": {
              "version_major": 2,
              "version_minor": 0,
              "model_id": "38f6d9ef3cb04eea982fe9c7578c3bdf"
            }
          },
          "metadata": {}
        },
        {
          "output_type": "display_data",
          "data": {
            "text/plain": [
              "vocab.json:   0%|          | 0.00/1.04M [00:00<?, ?B/s]"
            ],
            "application/vnd.jupyter.widget-view+json": {
              "version_major": 2,
              "version_minor": 0,
              "model_id": "37d10659a3fe42488523a0f83db207e3"
            }
          },
          "metadata": {}
        },
        {
          "output_type": "display_data",
          "data": {
            "text/plain": [
              "merges.txt:   0%|          | 0.00/456k [00:00<?, ?B/s]"
            ],
            "application/vnd.jupyter.widget-view+json": {
              "version_major": 2,
              "version_minor": 0,
              "model_id": "d250b2981f9b4122a196279d405739e9"
            }
          },
          "metadata": {}
        },
        {
          "output_type": "display_data",
          "data": {
            "text/plain": [
              "tokenizer.json:   0%|          | 0.00/1.36M [00:00<?, ?B/s]"
            ],
            "application/vnd.jupyter.widget-view+json": {
              "version_major": 2,
              "version_minor": 0,
              "model_id": "9580eb92e17d47cebcf00a1cba9e815a"
            }
          },
          "metadata": {}
        },
        {
          "output_type": "execute_result",
          "data": {
            "text/plain": [
              "GPT2LMHeadModel(\n",
              "  (transformer): GPT2Model(\n",
              "    (wte): Embedding(50257, 768)\n",
              "    (wpe): Embedding(1024, 768)\n",
              "    (drop): Dropout(p=0.1, inplace=False)\n",
              "    (h): ModuleList(\n",
              "      (0-11): 12 x GPT2Block(\n",
              "        (ln_1): LayerNorm((768,), eps=1e-05, elementwise_affine=True)\n",
              "        (attn): GPT2Attention(\n",
              "          (c_attn): Conv1D(nf=2304, nx=768)\n",
              "          (c_proj): Conv1D(nf=768, nx=768)\n",
              "          (attn_dropout): Dropout(p=0.1, inplace=False)\n",
              "          (resid_dropout): Dropout(p=0.1, inplace=False)\n",
              "        )\n",
              "        (ln_2): LayerNorm((768,), eps=1e-05, elementwise_affine=True)\n",
              "        (mlp): GPT2MLP(\n",
              "          (c_fc): Conv1D(nf=3072, nx=768)\n",
              "          (c_proj): Conv1D(nf=768, nx=3072)\n",
              "          (act): NewGELUActivation()\n",
              "          (dropout): Dropout(p=0.1, inplace=False)\n",
              "        )\n",
              "      )\n",
              "    )\n",
              "    (ln_f): LayerNorm((768,), eps=1e-05, elementwise_affine=True)\n",
              "  )\n",
              "  (lm_head): Linear(in_features=768, out_features=50257, bias=False)\n",
              ")"
            ]
          },
          "metadata": {},
          "execution_count": 2
        }
      ]
    },
    {
      "cell_type": "code",
      "source": [
        "# 2.Generating recipe based on ingredients and cooking style\n",
        "def generate_recipe(ingredients, cooking_style, max_length=150, temperature=0.7, top_p=0.9):\n",
        "    # Combine ingredients and cooking style to form a prompt for recipe generation\n",
        "    prompt = f\"Generate a {cooking_style} recipe using the following ingredients: {ingredients}\"\n",
        "    inputs = tokenizer.encode(prompt, return_tensors='pt')\n",
        "\n",
        "    # Generating recipe with the model\n",
        "    with torch.no_grad():\n",
        "        outputs = model.generate(inputs, max_length=max_length, num_return_sequences=1,\n",
        "                                 temperature=temperature, top_p=top_p, no_repeat_ngram_size=2)\n",
        "\n",
        "    recipe = tokenizer.decode(outputs[0], skip_special_tokens=True)\n",
        "    return recipe\n",
        ""
      ],
      "metadata": {
        "id": "JfcH8vx1APKG"
      },
      "execution_count": 3,
      "outputs": []
    },
    {
      "cell_type": "code",
      "source": [
        "# 3. Example ingredients and cooking style\n",
        "ingredients = \"chicken, rice, tomatoes, onions, olive oil, maggi\"\n",
        "cooking_style = \"Nigerian\"\n",
        ""
      ],
      "metadata": {
        "id": "Xmr672kPAd2O"
      },
      "execution_count": 6,
      "outputs": []
    },
    {
      "cell_type": "code",
      "source": [
        "# 4.Generating recipe\n",
        "generated_recipe = generate_recipe(ingredients, cooking_style)\n",
        "\n",
        "print(\"Generated Recipe:\")\n",
        "print(generated_recipe)"
      ],
      "metadata": {
        "colab": {
          "base_uri": "https://localhost:8080/"
        },
        "id": "1klK9_54Aqev",
        "outputId": "bcf2e796-bd48-4488-d165-f48579b6719f"
      },
      "execution_count": 7,
      "outputs": [
        {
          "output_type": "stream",
          "name": "stderr",
          "text": [
            "The following generation flags are not valid and may be ignored: ['temperature', 'top_p']. Set `TRANSFORMERS_VERBOSITY=info` for more details.\n",
            "The attention mask and the pad token id were not set. As a consequence, you may observe unexpected behavior. Please pass your input's `attention_mask` to obtain reliable results.\n",
            "Setting `pad_token_id` to `eos_token_id`:50256 for open-end generation.\n"
          ]
        },
        {
          "output_type": "stream",
          "name": "stdout",
          "text": [
            "Generated Recipe:\n",
            "Generate a Nigerian recipe using the following ingredients: chicken, rice, tomatoes, onions, olive oil, maggi, salt, pepper, garlic, and salt.\n",
            "\n",
            "The following recipes are for the same recipe, but with different ingredients. The following are the ingredients that you will need to make the Nigerian version of the recipe.\n",
            "\n",
            "\n",
            "1. Chicken\n",
            ". This is the chicken that is used in the recipes. It is a very good choice for a vegetarian or vegan diet. You can use it in a variety of ways, such as as a salad, as well as in soups, salads, or as an appetizer. If you are a fan of chicken and rice and want to try it, you can also use this recipe\n"
          ]
        }
      ]
    }
  ]
}