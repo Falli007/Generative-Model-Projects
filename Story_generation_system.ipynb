{
  "nbformat": 4,
  "nbformat_minor": 0,
  "metadata": {
    "colab": {
      "provenance": []
    },
    "kernelspec": {
      "name": "python3",
      "display_name": "Python 3"
    },
    "language_info": {
      "name": "python"
    }
  },
  "cells": [
    {
      "cell_type": "markdown",
      "source": [
        "A story generation system uses generative models to create coherent narratives or stories based on an initial input, prompt, or theme. These models typically use language models such as transformers or RNNs to learn patterns in text and generate creative and engaging stories. This project will focus on building a simple story generation system using a pre-trained language model such as GPT or LSTM to generate stories."
      ],
      "metadata": {
        "id": "VAh-Q0y_LuTQ"
      }
    },
    {
      "cell_type": "code",
      "execution_count": 1,
      "metadata": {
        "id": "tGYeeuEhLnjm"
      },
      "outputs": [],
      "source": [
        "#Importing libraries\n",
        "import torch\n",
        "import torch.nn as nn\n",
        "import torch.optim as optim\n",
        "from transformers import GPT2LMHeadModel, GPT2Tokenizer\n",
        "import random"
      ]
    },
    {
      "cell_type": "markdown",
      "source": [
        "GPT-2 model is fine-tuned for general language generation tasks and is capable of generating meaningful text."
      ],
      "metadata": {
        "id": "68bGic9vNxbj"
      }
    },
    {
      "cell_type": "code",
      "source": [
        "# 1. Load the pre-trained GPT-2 model and tokenizer\n",
        "model_name = \"gpt2\"  # GPT-2 model (can be replaced with larger models like gpt2-medium)\n",
        "model = GPT2LMHeadModel.from_pretrained(model_name)\n",
        "tokenizer = GPT2Tokenizer.from_pretrained(model_name)\n",
        "\n",
        "model.eval()  # Setting the model to evaluation mode"
      ],
      "metadata": {
        "colab": {
          "base_uri": "https://localhost:8080/"
        },
        "id": "fvrEEpRDL5lt",
        "outputId": "ea3c6ac0-1ba5-4cc1-a0c1-00d2d920395b"
      },
      "execution_count": 3,
      "outputs": [
        {
          "output_type": "execute_result",
          "data": {
            "text/plain": [
              "GPT2LMHeadModel(\n",
              "  (transformer): GPT2Model(\n",
              "    (wte): Embedding(50257, 768)\n",
              "    (wpe): Embedding(1024, 768)\n",
              "    (drop): Dropout(p=0.1, inplace=False)\n",
              "    (h): ModuleList(\n",
              "      (0-11): 12 x GPT2Block(\n",
              "        (ln_1): LayerNorm((768,), eps=1e-05, elementwise_affine=True)\n",
              "        (attn): GPT2Attention(\n",
              "          (c_attn): Conv1D(nf=2304, nx=768)\n",
              "          (c_proj): Conv1D(nf=768, nx=768)\n",
              "          (attn_dropout): Dropout(p=0.1, inplace=False)\n",
              "          (resid_dropout): Dropout(p=0.1, inplace=False)\n",
              "        )\n",
              "        (ln_2): LayerNorm((768,), eps=1e-05, elementwise_affine=True)\n",
              "        (mlp): GPT2MLP(\n",
              "          (c_fc): Conv1D(nf=3072, nx=768)\n",
              "          (c_proj): Conv1D(nf=768, nx=3072)\n",
              "          (act): NewGELUActivation()\n",
              "          (dropout): Dropout(p=0.1, inplace=False)\n",
              "        )\n",
              "      )\n",
              "    )\n",
              "    (ln_f): LayerNorm((768,), eps=1e-05, elementwise_affine=True)\n",
              "  )\n",
              "  (lm_head): Linear(in_features=768, out_features=50257, bias=False)\n",
              ")"
            ]
          },
          "metadata": {},
          "execution_count": 3
        }
      ]
    },
    {
      "cell_type": "markdown",
      "source": [
        "###Temperature controls the randomness of predictions. A higher value (like 1.0) introduces more randomness, making the output more creative.\n",
        "\n"
      ],
      "metadata": {
        "id": "33nkmVhtOSjs"
      }
    },
    {
      "cell_type": "code",
      "source": [
        "# 2.Generating a story from a prompt\n",
        "def generate_story(prompt, max_length=200):\n",
        "    inputs = tokenizer.encode(prompt, return_tensors='pt')\n",
        "\n",
        "    # Generating text with the model\n",
        "    with torch.no_grad():\n",
        "        outputs = model.generate(inputs, max_length=max_length, num_return_sequences=1, no_repeat_ngram_size=2, temperature=1.0)\n",
        "\n",
        "    story = tokenizer.decode(outputs[0], skip_special_tokens=True)\n",
        "    return story"
      ],
      "metadata": {
        "id": "qFRPGL1ZMLvi"
      },
      "execution_count": 4,
      "outputs": []
    },
    {
      "cell_type": "code",
      "source": [
        "# 3. Example story prompt and generation\n",
        "prompt = \"Once upon a time in a kingdom in Africa a man named Fredrick Alli\"\n",
        "generated_story = generate_story(prompt)\n",
        "\n",
        "print(\"Generated Story:\")\n",
        "print(generated_story)"
      ],
      "metadata": {
        "colab": {
          "base_uri": "https://localhost:8080/"
        },
        "id": "bA_BQ6_UM8IJ",
        "outputId": "8a8a71a6-3e3a-4770-c4d5-2f4814fad400"
      },
      "execution_count": 6,
      "outputs": [
        {
          "output_type": "stream",
          "name": "stderr",
          "text": [
            "The attention mask and the pad token id were not set. As a consequence, you may observe unexpected behavior. Please pass your input's `attention_mask` to obtain reliable results.\n",
            "Setting `pad_token_id` to `eos_token_id`:50256 for open-end generation.\n"
          ]
        },
        {
          "output_type": "stream",
          "name": "stdout",
          "text": [
            "Generated Story:\n",
            "Once upon a time in a kingdom in Africa a man named Fredrick Alli was a young man who had been born in the city of Bordeaux. He was the son of a wealthy merchant and a merchant's son. Fredricks father was an old man, and his father's father had a great deal of wealth. The father of Fredriks father, who was also a rich merchant, was very wealthy. His father also had an immense fortune.\n",
            "\n",
            "Fredricks mother was of the same family as his mother. She was born to a poor family, but she was able to raise her children well. Her father and mother were very well educated. They were able, however, to make a lot of money. Their father worked hard, he was well-educated, his wife was good-looking, they were well liked. But they had no money, so they did not have any money to spend. So they went to the king's court and asked him to give them money\n"
          ]
        }
      ]
    }
  ]
}